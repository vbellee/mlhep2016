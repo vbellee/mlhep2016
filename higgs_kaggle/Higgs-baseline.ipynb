{
 "cells": [
  {
   "cell_type": "markdown",
   "metadata": {},
   "source": [
    "## About\n",
    "\n",
    "In this notebook we prepare a simple solution for the [kaggle challenge on higgs.](https://inclass.kaggle.com/c/mlhep-2016-higgs-detection)"
   ]
  },
  {
   "cell_type": "code",
   "execution_count": 1,
   "metadata": {
    "collapsed": true
   },
   "outputs": [],
   "source": [
    "%matplotlib inline"
   ]
  },
  {
   "cell_type": "code",
   "execution_count": 2,
   "metadata": {
    "collapsed": true
   },
   "outputs": [],
   "source": [
    "import matplotlib.pyplot as plt\n",
    "\n",
    "import pandas\n",
    "import numpy\n",
    "\n",
    "from sklearn.cross_validation import train_test_split\n",
    "from sklearn.metrics import roc_auc_score"
   ]
  },
  {
   "cell_type": "markdown",
   "metadata": {},
   "source": [
    "### Download data"
   ]
  },
  {
   "cell_type": "code",
   "execution_count": 3,
   "metadata": {
    "collapsed": false
   },
   "outputs": [
    {
     "name": "stdout",
     "output_type": "stream",
     "text": [
      "wget: /root/miniconda/envs/rep_py2/lib/libcrypto.so.1.0.0: no version information available (required by wget)\r\n",
      "wget: /root/miniconda/envs/rep_py2/lib/libssl.so.1.0.0: no version information available (required by wget)\r\n",
      "File `public_train_10000.root' already there; not retrieving.\r\n"
     ]
    }
   ],
   "source": [
    "!cd datasets; wget -O public_train_10000.root -nc --no-check-certificate https://2016.mlhep.yandex.net/data/higgs/public_train_10000.root"
   ]
  },
  {
   "cell_type": "code",
   "execution_count": 4,
   "metadata": {
    "collapsed": true
   },
   "outputs": [],
   "source": [
    "# you can download training sample with 100000 available events\n",
    "# uncomment the below row\n",
    "# !cd datasets; wget -O public_train_100000.root -nc --no-check-certificate https://2016.mlhep.yandex.net/data/higgs/public_train_100000.root"
   ]
  },
  {
   "cell_type": "code",
   "execution_count": 5,
   "metadata": {
    "collapsed": false
   },
   "outputs": [
    {
     "name": "stdout",
     "output_type": "stream",
     "text": [
      "wget: /root/miniconda/envs/rep_py2/lib/libcrypto.so.1.0.0: no version information available (required by wget)\r\n",
      "wget: /root/miniconda/envs/rep_py2/lib/libssl.so.1.0.0: no version information available (required by wget)\r\n",
      "File `public_test.root' already there; not retrieving.\r\n"
     ]
    }
   ],
   "source": [
    "!cd datasets; wget -O public_test.root -nc --no-check-certificate https://2016.mlhep.yandex.net/data/higgs/public_test.root"
   ]
  },
  {
   "cell_type": "markdown",
   "metadata": {},
   "source": [
    "### Read the smallest part of training file and test file"
   ]
  },
  {
   "cell_type": "code",
   "execution_count": 91,
   "metadata": {
    "collapsed": false
   },
   "outputs": [],
   "source": [
    "import root_numpy\n",
    "data = pandas.DataFrame(root_numpy.root2array('datasets/public_train_10000.root'))\n",
    "data['delta_m_jj'] = abs(data.m_jj-data['m_jj'].mean())\n",
    "data['delta_m_jjj'] = abs(data.m_jjj-data['m_jjj'].mean())\n",
    "data['delta_m_jlv'] = abs(data.m_jlv-data['m_jlv'].mean())\n",
    "data['delta_m_wwbb'] = abs(data.m_wwbb-data['m_wwbb'].mean())\n",
    "data['delta_m_bb'] = abs(data.m_bb-data['m_bb'].mean())\n",
    "data['delta_m_wbb'] = abs(data.m_wbb-data['m_wbb'].mean())\n",
    "test = pandas.DataFrame(root_numpy.root2array('datasets/public_test.root'))\n",
    "test['delta_m_jj'] = abs(data.m_jj-data['m_jj'].mean())\n",
    "test['delta_m_jjj'] = abs(data.m_jjj-data['m_jjj'].mean())\n",
    "test['delta_m_jlv'] = abs(data.m_jlv-data['m_jlv'].mean())\n",
    "test['delta_m_wwbb'] = abs(data.m_wwbb-data['m_wwbb'].mean())\n",
    "test['delta_m_bb'] = abs(data.m_bb-data['m_bb'].mean())\n",
    "test['delta_m_wbb'] = abs(data.m_wbb-data['m_wbb'].mean())"
   ]
  },
  {
   "cell_type": "code",
   "execution_count": 92,
   "metadata": {
    "collapsed": false
   },
   "outputs": [
    {
     "data": {
      "text/html": [
       "<div>\n",
       "<table border=\"1\" class=\"dataframe\">\n",
       "  <thead>\n",
       "    <tr style=\"text-align: right;\">\n",
       "      <th></th>\n",
       "      <th>event_id</th>\n",
       "      <th>target</th>\n",
       "      <th>lepton_pt</th>\n",
       "      <th>lepton_eta</th>\n",
       "      <th>lepton_phi</th>\n",
       "      <th>mem_pt</th>\n",
       "      <th>mem_phi</th>\n",
       "      <th>jet1_pt</th>\n",
       "      <th>jet1_eta</th>\n",
       "      <th>jet1_phi</th>\n",
       "      <th>...</th>\n",
       "      <th>m_jlv</th>\n",
       "      <th>m_bb</th>\n",
       "      <th>m_wbb</th>\n",
       "      <th>m_wwbb</th>\n",
       "      <th>delta_m_jj</th>\n",
       "      <th>delta_m_jjj</th>\n",
       "      <th>delta_m_jlv</th>\n",
       "      <th>delta_m_wwbb</th>\n",
       "      <th>delta_m_bb</th>\n",
       "      <th>delta_m_wbb</th>\n",
       "    </tr>\n",
       "  </thead>\n",
       "  <tbody>\n",
       "    <tr>\n",
       "      <th>0</th>\n",
       "      <td>1000001</td>\n",
       "      <td>1</td>\n",
       "      <td>34.750568</td>\n",
       "      <td>0.787025</td>\n",
       "      <td>1.898891</td>\n",
       "      <td>20.862434</td>\n",
       "      <td>-2.622998</td>\n",
       "      <td>44.814148</td>\n",
       "      <td>-0.168171</td>\n",
       "      <td>2.631595</td>\n",
       "      <td>...</td>\n",
       "      <td>170.086075</td>\n",
       "      <td>91.128204</td>\n",
       "      <td>298.468781</td>\n",
       "      <td>374.685760</td>\n",
       "      <td>8.063087</td>\n",
       "      <td>7.935013</td>\n",
       "      <td>22.929352</td>\n",
       "      <td>109.426941</td>\n",
       "      <td>29.090973</td>\n",
       "      <td>49.811584</td>\n",
       "    </tr>\n",
       "    <tr>\n",
       "      <th>1</th>\n",
       "      <td>1000002</td>\n",
       "      <td>1</td>\n",
       "      <td>54.250927</td>\n",
       "      <td>-1.057915</td>\n",
       "      <td>2.310697</td>\n",
       "      <td>51.167873</td>\n",
       "      <td>2.545749</td>\n",
       "      <td>31.039040</td>\n",
       "      <td>-2.220276</td>\n",
       "      <td>-0.737298</td>\n",
       "      <td>...</td>\n",
       "      <td>208.039688</td>\n",
       "      <td>67.118484</td>\n",
       "      <td>287.363983</td>\n",
       "      <td>527.247559</td>\n",
       "      <td>23.949791</td>\n",
       "      <td>19.448624</td>\n",
       "      <td>15.024261</td>\n",
       "      <td>43.134857</td>\n",
       "      <td>53.100693</td>\n",
       "      <td>60.916382</td>\n",
       "    </tr>\n",
       "    <tr>\n",
       "      <th>2</th>\n",
       "      <td>1000003</td>\n",
       "      <td>1</td>\n",
       "      <td>47.746025</td>\n",
       "      <td>-0.783184</td>\n",
       "      <td>2.660325</td>\n",
       "      <td>68.165527</td>\n",
       "      <td>-1.700790</td>\n",
       "      <td>36.945312</td>\n",
       "      <td>-1.151738</td>\n",
       "      <td>-0.626912</td>\n",
       "      <td>...</td>\n",
       "      <td>149.089005</td>\n",
       "      <td>130.389206</td>\n",
       "      <td>237.879318</td>\n",
       "      <td>336.058838</td>\n",
       "      <td>20.470612</td>\n",
       "      <td>25.313400</td>\n",
       "      <td>43.926422</td>\n",
       "      <td>148.053864</td>\n",
       "      <td>10.170029</td>\n",
       "      <td>110.401047</td>\n",
       "    </tr>\n",
       "    <tr>\n",
       "      <th>3</th>\n",
       "      <td>1000004</td>\n",
       "      <td>0</td>\n",
       "      <td>45.950066</td>\n",
       "      <td>1.613817</td>\n",
       "      <td>0.964722</td>\n",
       "      <td>39.302082</td>\n",
       "      <td>-0.075989</td>\n",
       "      <td>84.307426</td>\n",
       "      <td>0.465748</td>\n",
       "      <td>2.287783</td>\n",
       "      <td>...</td>\n",
       "      <td>164.411148</td>\n",
       "      <td>93.709511</td>\n",
       "      <td>237.900055</td>\n",
       "      <td>392.807831</td>\n",
       "      <td>18.755470</td>\n",
       "      <td>0.693405</td>\n",
       "      <td>28.604279</td>\n",
       "      <td>91.304871</td>\n",
       "      <td>26.509666</td>\n",
       "      <td>110.380310</td>\n",
       "    </tr>\n",
       "    <tr>\n",
       "      <th>4</th>\n",
       "      <td>1000005</td>\n",
       "      <td>0</td>\n",
       "      <td>44.409187</td>\n",
       "      <td>-0.228907</td>\n",
       "      <td>-1.837974</td>\n",
       "      <td>49.886654</td>\n",
       "      <td>0.156533</td>\n",
       "      <td>32.852112</td>\n",
       "      <td>2.561646</td>\n",
       "      <td>2.641460</td>\n",
       "      <td>...</td>\n",
       "      <td>150.299744</td>\n",
       "      <td>69.818291</td>\n",
       "      <td>435.990356</td>\n",
       "      <td>533.977905</td>\n",
       "      <td>32.242638</td>\n",
       "      <td>106.945953</td>\n",
       "      <td>42.715683</td>\n",
       "      <td>49.865204</td>\n",
       "      <td>50.400887</td>\n",
       "      <td>87.709991</td>\n",
       "    </tr>\n",
       "  </tbody>\n",
       "</table>\n",
       "<p>5 rows × 36 columns</p>\n",
       "</div>"
      ],
      "text/plain": [
       "   event_id  target  lepton_pt  lepton_eta  lepton_phi     mem_pt   mem_phi  \\\n",
       "0   1000001       1  34.750568    0.787025    1.898891  20.862434 -2.622998   \n",
       "1   1000002       1  54.250927   -1.057915    2.310697  51.167873  2.545749   \n",
       "2   1000003       1  47.746025   -0.783184    2.660325  68.165527 -1.700790   \n",
       "3   1000004       0  45.950066    1.613817    0.964722  39.302082 -0.075989   \n",
       "4   1000005       0  44.409187   -0.228907   -1.837974  49.886654  0.156533   \n",
       "\n",
       "     jet1_pt  jet1_eta  jet1_phi     ...            m_jlv        m_bb  \\\n",
       "0  44.814148 -0.168171  2.631595     ...       170.086075   91.128204   \n",
       "1  31.039040 -2.220276 -0.737298     ...       208.039688   67.118484   \n",
       "2  36.945312 -1.151738 -0.626912     ...       149.089005  130.389206   \n",
       "3  84.307426  0.465748  2.287783     ...       164.411148   93.709511   \n",
       "4  32.852112  2.561646  2.641460     ...       150.299744   69.818291   \n",
       "\n",
       "        m_wbb      m_wwbb  delta_m_jj  delta_m_jjj  delta_m_jlv  delta_m_wwbb  \\\n",
       "0  298.468781  374.685760    8.063087     7.935013    22.929352    109.426941   \n",
       "1  287.363983  527.247559   23.949791    19.448624    15.024261     43.134857   \n",
       "2  237.879318  336.058838   20.470612    25.313400    43.926422    148.053864   \n",
       "3  237.900055  392.807831   18.755470     0.693405    28.604279     91.304871   \n",
       "4  435.990356  533.977905   32.242638   106.945953    42.715683     49.865204   \n",
       "\n",
       "   delta_m_bb  delta_m_wbb  \n",
       "0   29.090973    49.811584  \n",
       "1   53.100693    60.916382  \n",
       "2   10.170029   110.401047  \n",
       "3   26.509666   110.380310  \n",
       "4   50.400887    87.709991  \n",
       "\n",
       "[5 rows x 36 columns]"
      ]
     },
     "execution_count": 92,
     "metadata": {},
     "output_type": "execute_result"
    }
   ],
   "source": [
    "data.head()"
   ]
  },
  {
   "cell_type": "code",
   "execution_count": 93,
   "metadata": {
    "collapsed": false
   },
   "outputs": [
    {
     "data": {
      "text/html": [
       "<div>\n",
       "<table border=\"1\" class=\"dataframe\">\n",
       "  <thead>\n",
       "    <tr style=\"text-align: right;\">\n",
       "      <th></th>\n",
       "      <th>event_id</th>\n",
       "      <th>lepton_pt</th>\n",
       "      <th>lepton_eta</th>\n",
       "      <th>lepton_phi</th>\n",
       "      <th>mem_pt</th>\n",
       "      <th>mem_phi</th>\n",
       "      <th>jet1_pt</th>\n",
       "      <th>jet1_eta</th>\n",
       "      <th>jet1_phi</th>\n",
       "      <th>jet1_btag</th>\n",
       "      <th>...</th>\n",
       "      <th>m_jlv</th>\n",
       "      <th>m_bb</th>\n",
       "      <th>m_wbb</th>\n",
       "      <th>m_wwbb</th>\n",
       "      <th>delta_m_jj</th>\n",
       "      <th>delta_m_jjj</th>\n",
       "      <th>delta_m_jlv</th>\n",
       "      <th>delta_m_wwbb</th>\n",
       "      <th>delta_m_bb</th>\n",
       "      <th>delta_m_wbb</th>\n",
       "    </tr>\n",
       "  </thead>\n",
       "  <tbody>\n",
       "    <tr>\n",
       "      <th>0</th>\n",
       "      <td>1</td>\n",
       "      <td>58.814354</td>\n",
       "      <td>-1.223199</td>\n",
       "      <td>1.290717</td>\n",
       "      <td>26.435696</td>\n",
       "      <td>2.608772</td>\n",
       "      <td>68.413330</td>\n",
       "      <td>0.639561</td>\n",
       "      <td>-1.226549</td>\n",
       "      <td>1.000008</td>\n",
       "      <td>...</td>\n",
       "      <td>224.813538</td>\n",
       "      <td>95.737434</td>\n",
       "      <td>372.835388</td>\n",
       "      <td>469.654236</td>\n",
       "      <td>8.063087</td>\n",
       "      <td>7.935013</td>\n",
       "      <td>22.929352</td>\n",
       "      <td>109.426941</td>\n",
       "      <td>29.090973</td>\n",
       "      <td>49.811584</td>\n",
       "    </tr>\n",
       "    <tr>\n",
       "      <th>1</th>\n",
       "      <td>2</td>\n",
       "      <td>21.390781</td>\n",
       "      <td>-0.468277</td>\n",
       "      <td>-1.371404</td>\n",
       "      <td>57.185963</td>\n",
       "      <td>1.214130</td>\n",
       "      <td>118.127953</td>\n",
       "      <td>-0.113784</td>\n",
       "      <td>-2.182008</td>\n",
       "      <td>0.000000</td>\n",
       "      <td>...</td>\n",
       "      <td>211.729141</td>\n",
       "      <td>195.910385</td>\n",
       "      <td>310.480103</td>\n",
       "      <td>431.597137</td>\n",
       "      <td>23.949791</td>\n",
       "      <td>19.448624</td>\n",
       "      <td>15.024261</td>\n",
       "      <td>43.134857</td>\n",
       "      <td>53.100693</td>\n",
       "      <td>60.916382</td>\n",
       "    </tr>\n",
       "    <tr>\n",
       "      <th>2</th>\n",
       "      <td>3</td>\n",
       "      <td>58.570217</td>\n",
       "      <td>1.443092</td>\n",
       "      <td>0.105191</td>\n",
       "      <td>54.450954</td>\n",
       "      <td>-2.354347</td>\n",
       "      <td>26.443583</td>\n",
       "      <td>-1.911658</td>\n",
       "      <td>1.337635</td>\n",
       "      <td>0.000000</td>\n",
       "      <td>...</td>\n",
       "      <td>260.643646</td>\n",
       "      <td>351.328644</td>\n",
       "      <td>638.053040</td>\n",
       "      <td>790.960815</td>\n",
       "      <td>20.470612</td>\n",
       "      <td>25.313400</td>\n",
       "      <td>43.926422</td>\n",
       "      <td>148.053864</td>\n",
       "      <td>10.170029</td>\n",
       "      <td>110.401047</td>\n",
       "    </tr>\n",
       "    <tr>\n",
       "      <th>3</th>\n",
       "      <td>4</td>\n",
       "      <td>70.469345</td>\n",
       "      <td>0.166176</td>\n",
       "      <td>-1.962429</td>\n",
       "      <td>38.138966</td>\n",
       "      <td>2.564890</td>\n",
       "      <td>42.678413</td>\n",
       "      <td>-1.256608</td>\n",
       "      <td>-0.276156</td>\n",
       "      <td>2.000000</td>\n",
       "      <td>...</td>\n",
       "      <td>169.550491</td>\n",
       "      <td>96.056900</td>\n",
       "      <td>305.073212</td>\n",
       "      <td>402.656067</td>\n",
       "      <td>18.755470</td>\n",
       "      <td>0.693405</td>\n",
       "      <td>28.604279</td>\n",
       "      <td>91.304871</td>\n",
       "      <td>26.509666</td>\n",
       "      <td>110.380310</td>\n",
       "    </tr>\n",
       "    <tr>\n",
       "      <th>4</th>\n",
       "      <td>5</td>\n",
       "      <td>113.456779</td>\n",
       "      <td>0.232503</td>\n",
       "      <td>2.941150</td>\n",
       "      <td>64.401146</td>\n",
       "      <td>1.125812</td>\n",
       "      <td>164.289139</td>\n",
       "      <td>-0.735258</td>\n",
       "      <td>-0.590741</td>\n",
       "      <td>1.999937</td>\n",
       "      <td>...</td>\n",
       "      <td>187.637009</td>\n",
       "      <td>142.145920</td>\n",
       "      <td>433.032440</td>\n",
       "      <td>507.496399</td>\n",
       "      <td>32.242638</td>\n",
       "      <td>106.945953</td>\n",
       "      <td>42.715683</td>\n",
       "      <td>49.865204</td>\n",
       "      <td>50.400887</td>\n",
       "      <td>87.709991</td>\n",
       "    </tr>\n",
       "  </tbody>\n",
       "</table>\n",
       "<p>5 rows × 35 columns</p>\n",
       "</div>"
      ],
      "text/plain": [
       "   event_id   lepton_pt  lepton_eta  lepton_phi     mem_pt   mem_phi  \\\n",
       "0         1   58.814354   -1.223199    1.290717  26.435696  2.608772   \n",
       "1         2   21.390781   -0.468277   -1.371404  57.185963  1.214130   \n",
       "2         3   58.570217    1.443092    0.105191  54.450954 -2.354347   \n",
       "3         4   70.469345    0.166176   -1.962429  38.138966  2.564890   \n",
       "4         5  113.456779    0.232503    2.941150  64.401146  1.125812   \n",
       "\n",
       "      jet1_pt  jet1_eta  jet1_phi  jet1_btag     ...            m_jlv  \\\n",
       "0   68.413330  0.639561 -1.226549   1.000008     ...       224.813538   \n",
       "1  118.127953 -0.113784 -2.182008   0.000000     ...       211.729141   \n",
       "2   26.443583 -1.911658  1.337635   0.000000     ...       260.643646   \n",
       "3   42.678413 -1.256608 -0.276156   2.000000     ...       169.550491   \n",
       "4  164.289139 -0.735258 -0.590741   1.999937     ...       187.637009   \n",
       "\n",
       "         m_bb       m_wbb      m_wwbb  delta_m_jj  delta_m_jjj  delta_m_jlv  \\\n",
       "0   95.737434  372.835388  469.654236    8.063087     7.935013    22.929352   \n",
       "1  195.910385  310.480103  431.597137   23.949791    19.448624    15.024261   \n",
       "2  351.328644  638.053040  790.960815   20.470612    25.313400    43.926422   \n",
       "3   96.056900  305.073212  402.656067   18.755470     0.693405    28.604279   \n",
       "4  142.145920  433.032440  507.496399   32.242638   106.945953    42.715683   \n",
       "\n",
       "   delta_m_wwbb  delta_m_bb  delta_m_wbb  \n",
       "0    109.426941   29.090973    49.811584  \n",
       "1     43.134857   53.100693    60.916382  \n",
       "2    148.053864   10.170029   110.401047  \n",
       "3     91.304871   26.509666   110.380310  \n",
       "4     49.865204   50.400887    87.709991  \n",
       "\n",
       "[5 rows x 35 columns]"
      ]
     },
     "execution_count": 93,
     "metadata": {},
     "output_type": "execute_result"
    }
   ],
   "source": [
    "test.head()"
   ]
  },
  {
   "cell_type": "markdown",
   "metadata": {},
   "source": [
    "### Define training features\n",
    "\n",
    "Exclude `event_id`, `target` from the features set"
   ]
  },
  {
   "cell_type": "code",
   "execution_count": 94,
   "metadata": {
    "collapsed": false
   },
   "outputs": [
    {
     "data": {
      "text/plain": [
       "['jet3_pt',\n",
       " 'jet3_eta',\n",
       " 'mem_pt',\n",
       " 'm_jjj',\n",
       " 'mem_phi',\n",
       " 'jet1_pt',\n",
       " 'jet4_phi',\n",
       " 'delta_m_jj',\n",
       " 'delta_m_wwbb',\n",
       " 'jet1_phi',\n",
       " 'jet2_eta',\n",
       " 'jet3_btag',\n",
       " 'm_jlv',\n",
       " 'delta_m_bb',\n",
       " 'm_wbb',\n",
       " 'jet4_pt',\n",
       " 'jet4_btag',\n",
       " 'jet2_pt',\n",
       " 'jet1_btag',\n",
       " 'm_jj',\n",
       " 'm_wwbb',\n",
       " 'jet2_phi',\n",
       " 'lepton_phi',\n",
       " 'm_bb',\n",
       " 'm_lv',\n",
       " 'jet4_eta',\n",
       " 'jet2_btag',\n",
       " 'lepton_pt',\n",
       " 'delta_m_jlv',\n",
       " 'lepton_eta',\n",
       " 'delta_m_wbb',\n",
       " 'jet3_phi',\n",
       " 'delta_m_jjj',\n",
       " 'jet1_eta']"
      ]
     },
     "execution_count": 94,
     "metadata": {},
     "output_type": "execute_result"
    }
   ],
   "source": [
    "features = list(set(data.columns) - {'event_id', 'target'})\n",
    "features"
   ]
  },
  {
   "cell_type": "markdown",
   "metadata": {},
   "source": [
    "### Prepare high-level features for training"
   ]
  },
  {
   "cell_type": "code",
   "execution_count": 95,
   "metadata": {
    "collapsed": false
   },
   "outputs": [],
   "source": [
    "high_level_features = ['m_jj', 'm_jjj', 'm_jlv', 'm_wwbb', 'm_bb', 'm_wbb', 'm_lv', 'jet4_btag',\n",
    "                      'delta_m_jj', 'delta_m_jjj', 'delta_m_jlv', 'delta_m_wwbb', 'delta_m_bb',\n",
    "                        'delta_m_wbb']"
   ]
  },
  {
   "cell_type": "markdown",
   "metadata": {},
   "source": [
    "### Plot histograms for each high-level feature"
   ]
  },
  {
   "cell_type": "code",
   "execution_count": 96,
   "metadata": {
    "collapsed": false
   },
   "outputs": [
    {
     "data": {
      "image/png": "[encoded data removed]",
      "text/plain": [
       "<matplotlib.figure.Figure at 0x7f14958af090>"
      ]
     },
     "metadata": {},
     "output_type": "display_data"
    }
   ],
   "source": [
    "hist_params = {'normed': True, 'bins': 60, 'alpha': 0.4}\n",
    "# create the figure\n",
    "plt.figure(figsize=(16, 25))\n",
    "for n, feature in enumerate(high_level_features):\n",
    "    # add sub plot on our figure\n",
    "    plt.subplot(len(features) // 5 + 1, 3, n+1)\n",
    "    # define range for histograms by cutting 1% of data from both ends\n",
    "    min_value, max_value = numpy.percentile(data[feature], [1, 99])\n",
    "    plt.hist(data.ix[data.target.values == 0, feature].values, range=(min_value, max_value), \n",
    "             label='class 0', **hist_params)\n",
    "    plt.hist(data.ix[data.target.values == 1, feature].values, range=(min_value, max_value), \n",
    "             label='class 1', **hist_params)\n",
    "    plt.legend(loc='best')\n",
    "    plt.title(feature)"
   ]
  },
  {
   "cell_type": "markdown",
   "metadata": {},
   "source": [
    "### Divide training data into 2 parts \n",
    "`train_test_split` function is used to divide into 2 parts to preserve quality overestimating."
   ]
  },
  {
   "cell_type": "code",
   "execution_count": 97,
   "metadata": {
    "collapsed": false
   },
   "outputs": [],
   "source": [
    "training_data, validation_data = train_test_split(data, random_state=367, train_size=0.66)"
   ]
  },
  {
   "cell_type": "markdown",
   "metadata": {},
   "source": [
    "### Simple knn from `sklearn` training"
   ]
  },
  {
   "cell_type": "code",
   "execution_count": 4,
   "metadata": {
    "collapsed": false,
    "scrolled": true
   },
   "outputs": [
    {
     "ename": "AttributeError",
     "evalue": "'module' object has no attribute 'SelectFromModel'",
     "output_type": "error",
     "traceback": [
      "\u001b[1;31m---------------------------------------------------------------------------\u001b[0m",
      "\u001b[1;31mAttributeError\u001b[0m                            Traceback (most recent call last)",
      "\u001b[1;32m<ipython-input-4-e8b6cd4350aa>\u001b[0m in \u001b[0;36m<module>\u001b[1;34m()\u001b[0m\n\u001b[0;32m     10\u001b[0m \u001b[1;33m\u001b[0m\u001b[0m\n\u001b[0;32m     11\u001b[0m knn = Pipeline([\n\u001b[1;32m---> 12\u001b[1;33m   \u001b[1;33m(\u001b[0m\u001b[1;34m'feature_selection'\u001b[0m\u001b[1;33m,\u001b[0m \u001b[0msklearn\u001b[0m\u001b[1;33m.\u001b[0m\u001b[0mfeature_selection\u001b[0m\u001b[1;33m.\u001b[0m\u001b[0mSelectFromModel\u001b[0m\u001b[1;33m(\u001b[0m\u001b[0mLinearSVC\u001b[0m\u001b[1;33m(\u001b[0m\u001b[0mpenalty\u001b[0m\u001b[1;33m=\u001b[0m\u001b[1;34m\"l1\"\u001b[0m\u001b[1;33m)\u001b[0m\u001b[1;33m)\u001b[0m\u001b[1;33m)\u001b[0m\u001b[1;33m,\u001b[0m\u001b[1;33m\u001b[0m\u001b[0m\n\u001b[0m\u001b[0;32m     13\u001b[0m   \u001b[1;33m(\u001b[0m\u001b[1;34m'classification'\u001b[0m\u001b[1;33m,\u001b[0m \u001b[0mRandomForestClassifier\u001b[0m\u001b[1;33m(\u001b[0m\u001b[0mmax_depth\u001b[0m\u001b[1;33m=\u001b[0m\u001b[1;36m13\u001b[0m\u001b[1;33m,\u001b[0m \u001b[0mn_estimators\u001b[0m\u001b[1;33m=\u001b[0m\u001b[1;36m35\u001b[0m\u001b[1;33m,\u001b[0m \u001b[0mmax_features\u001b[0m\u001b[1;33m=\u001b[0m\u001b[1;36m3\u001b[0m\u001b[1;33m)\u001b[0m\u001b[1;33m)\u001b[0m\u001b[1;33m\u001b[0m\u001b[0m\n\u001b[0;32m     14\u001b[0m ])\n",
      "\u001b[1;31mAttributeError\u001b[0m: 'module' object has no attribute 'SelectFromModel'"
     ]
    }
   ],
   "source": [
    "#from sklearn.neighbors import KNeighborsClassifier\n",
    "#knn = KNeighborsClassifier(n_neighbors=9)\n",
    "#knn.fit(training_data[high_level_features], training_data.target)\n",
    "\n",
    "import sklearn.feature_selection\n",
    "#from sklearn.feature_selection import SelectFromModel\n",
    "from sklearn.pipeline import Pipeline\n",
    "from sklearn.ensemble import RandomForestClassifier\n",
    "#knn = RandomForestClassifier(max_depth=13, n_estimators=35, max_features=3)\n",
    "\n",
    "knn = Pipeline([\n",
    "  ('feature_selection', sklearn.feature_selection.SelectFromModel(LinearSVC(penalty=\"l1\"))),\n",
    "  ('classification', RandomForestClassifier(max_depth=13, n_estimators=35, max_features=3))\n",
    "])\n",
    "\n",
    "#from sklearn.ensemble import AdaBoostClassifier\n",
    "#knn = AdaBoostClassifier(n_estimators = 20)\n",
    "\n",
    "#from sklearn.ensemble import GradientBoostingClassifier\n",
    "#knn = GradientBoostingClassifier(n_estimators = 250, max_depth=2)\n",
    "\n",
    "#from sklearn.svm import SVC\n",
    "#knn = SVC(gamma=0.00009, C=1, probability=True)\n",
    "\n",
    "#from sklearn.kernel_ridge import KernelRidge\n",
    "#knn = KernelRidge(alpha=1.0, coef0=1, degree=3, gamma=None, kernel='linear',\n",
    "#            kernel_params=None)\n",
    "\n",
    "#from sklearn import linear_model\n",
    "#from sklearn.ensemble import AdaBoostClassifier\n",
    "#from sklearn.neural_network import BernoulliRBM\n",
    "#from sklearn.pipeline import Pipeline\n",
    "# Models we will use\n",
    "#logistic = SVC(gamma=0.00009, C=1, probability=True)\n",
    "#logistic = linear_model.LogisticRegression(C = 6000.0)\n",
    "#logistic = AdaBoostClassifier(n_estimators = 20)\n",
    "#rbm = BernoulliRBM(random_state=0, verbose=True, learning_rate=0.06, n_iter = 5, \n",
    "#                   n_components = 100)\n",
    "#knn = Pipeline(steps=[('rbm', rbm), ('logistic', logistic)])\n",
    "\n",
    "#from sklearn.ensemble import GradientBoostingClassifier\n",
    "#knn = GradientBoostingClassifier(max_depth=8, n_estimators=65, loss='exponential', \n",
    "#                                 max_features=6)\n",
    "\n",
    "knn.fit(training_data[high_level_features], training_data.target)"
   ]
  },
  {
   "cell_type": "code",
   "execution_count": 159,
   "metadata": {
    "collapsed": false
   },
   "outputs": [],
   "source": [
    "# predict validation sample (probability for each event)\n",
    "proba = knn.predict_proba(validation_data[high_level_features])"
   ]
  },
  {
   "cell_type": "code",
   "execution_count": 160,
   "metadata": {
    "collapsed": false
   },
   "outputs": [
    {
     "data": {
      "text/plain": [
       "array([[ 0.50374127,  0.49625873],\n",
       "       [ 0.5341183 ,  0.4658817 ],\n",
       "       [ 0.72546706,  0.27453294],\n",
       "       ..., \n",
       "       [ 0.35276983,  0.64723017],\n",
       "       [ 0.28486514,  0.71513486],\n",
       "       [ 0.68011905,  0.31988095]])"
      ]
     },
     "execution_count": 160,
     "metadata": {},
     "output_type": "execute_result"
    }
   ],
   "source": [
    "proba"
   ]
  },
  {
   "cell_type": "markdown",
   "metadata": {},
   "source": [
    "### Compute quality (ROC AUC) on the validation set (to prevent overestimating quality)"
   ]
  },
  {
   "cell_type": "code",
   "execution_count": 161,
   "metadata": {
    "collapsed": false
   },
   "outputs": [
    {
     "data": {
      "text/plain": [
       "0.74835784030887686"
      ]
     },
     "execution_count": 161,
     "metadata": {},
     "output_type": "execute_result"
    }
   ],
   "source": [
    "# take probability to be 1 class to compute ROC AUC\n",
    "roc_auc_score(validation_data.target, proba[:, 1])"
   ]
  },
  {
   "cell_type": "markdown",
   "metadata": {},
   "source": [
    "## Prepare submission to kaggle"
   ]
  },
  {
   "cell_type": "code",
   "execution_count": null,
   "metadata": {
    "collapsed": false
   },
   "outputs": [],
   "source": [
    "# predict test sample\n",
    "kaggle_proba = knn.predict_proba(test[high_level_features])[:, 1]\n",
    "kaggle_ids = test.event_id"
   ]
  },
  {
   "cell_type": "code",
   "execution_count": null,
   "metadata": {
    "collapsed": false
   },
   "outputs": [],
   "source": [
    "from IPython.display import FileLink\n",
    "def create_solution(ids, proba, filename='baseline.csv'):\n",
    "    \"\"\"saves predictions to file and provides a link for downloading \"\"\"\n",
    "    pandas.DataFrame({'event_id': ids, 'prediction': proba}).to_csv('datasets/{}'.format(filename), index=False)\n",
    "    return FileLink('datasets/{}'.format(filename))\n",
    "    \n",
    "create_solution(kaggle_ids, kaggle_proba)"
   ]
  },
  {
   "cell_type": "code",
   "execution_count": 3,
   "metadata": {
    "collapsed": false
   },
   "outputs": [
    {
     "name": "stdout",
     "output_type": "stream",
     "text": [
      "Collecting sklearn\n",
      "  Downloading sklearn-0.0.tar.gz\n",
      "Collecting scikit-learn (from sklearn)\n",
      "  Downloading scikit_learn-0.17.1-cp27-cp27mu-manylinux1_x86_64.whl (17.6MB)\n",
      "\u001b[K    100% |################################| 17.6MB 71kB/s \n",
      "\u001b[?25hBuilding wheels for collected packages: sklearn\n",
      "  Running setup.py bdist_wheel for sklearn ... \u001b[?25l-\b \bdone\n",
      "\u001b[?25h  Stored in directory: /root/.cache/pip/wheels/d7/db/a3/1b8041ab0be63b5c96c503df8e757cf205c2848cf9ef55f85e\n",
      "Successfully built sklearn\n",
      "Installing collected packages: scikit-learn, sklearn\n",
      "  Found existing installation: scikit-learn 0.16.1\n",
      "\u001b[33m    DEPRECATION: Uninstalling a distutils installed project (scikit-learn) has been deprecated and will be removed in a future version. This is due to the fact that uninstalling a distutils project will only partially uninstall the project.\u001b[0m\n",
      "    Uninstalling scikit-learn-0.16.1:\n",
      "      Successfully uninstalled scikit-learn-0.16.1\n",
      "Successfully installed scikit-learn-0.17.1 sklearn-0.0\n",
      "\u001b[33mYou are using pip version 8.1.1, however version 8.1.2 is available.\n",
      "You should consider upgrading via the 'pip install --upgrade pip' command.\u001b[0m\n"
     ]
    }
   ],
   "source": [
    "!pip install --upgrade sklearn"
   ]
  },
  {
   "cell_type": "code",
   "execution_count": 6,
   "metadata": {
    "collapsed": false
   },
   "outputs": [
    {
     "ename": "SyntaxError",
     "evalue": "invalid syntax (<ipython-input-6-497d29a66c43>, line 1)",
     "output_type": "error",
     "traceback": [
      "\u001b[1;36m  File \u001b[1;32m\"<ipython-input-6-497d29a66c43>\"\u001b[1;36m, line \u001b[1;32m1\u001b[0m\n\u001b[1;33m    pip instal --upgrade pip\u001b[0m\n\u001b[1;37m             ^\u001b[0m\n\u001b[1;31mSyntaxError\u001b[0m\u001b[1;31m:\u001b[0m invalid syntax\n"
     ]
    }
   ],
   "source": []
  },
  {
   "cell_type": "code",
   "execution_count": null,
   "metadata": {
    "collapsed": true
   },
   "outputs": [],
   "source": []
  }
 ],
 "metadata": {
  "kernelspec": {
   "display_name": "Python 2",
   "language": "python",
   "name": "python2"
  },
  "language_info": {
   "codemirror_mode": {
    "name": "ipython",
    "version": 2
   },
   "file_extension": ".py",
   "mimetype": "text/x-python",
   "name": "python",
   "nbconvert_exporter": "python",
   "pygments_lexer": "ipython2",
   "version": "2.7.11"
  }
 },
 "nbformat": 4,
 "nbformat_minor": 0
}
